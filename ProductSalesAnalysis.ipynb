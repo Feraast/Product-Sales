import pandas as pd
import numpy as np
import matplotlib.pyplot as plt
from sklearn.preprocessing import StandardScaler
from sklearn.metrics import mean_squared_error
from math import sqrt
%matplotlib inline
from scipy import stats, linalg
from pandas import Series
from sklearn import preprocessing
from statsmodels.tsa.arima_model import ARIMA
from pandas.tools.plotting import autocorrelation_plot
from statsmodels.graphics.tsaplots import plot_acf
import itertools

df = pd.read_csv(r"C:\Users\vx15\Downloads\Sales_Transactions_Dataset_Weekly.csv")

#select the columns with the normalized sales and use the product code as the index
normalized_cols = [col for col in df.columns if ('Normalize' in col or 'Product_Code' in col)]

#function to create a new dataframe with the select columns
def select_columns(data_frame, column_names):
    new_frame = data_frame.loc[:, column_names]
    return new_frame

#use function to extract normalized columns
normalized_df = select_columns(df,normalized_cols)


#Set index to product code to transpose the matrix properly
normalized_df.set_index('Product_Code',inplace=True)


#transpose the normalized matrix to compare product sales
normalized_dft = normalized_df.transpose()

#find the products' correlation matrix
corrMatrix = normalized_dft.corr()

#find the covariance matrix for the given dataframe
covarMatrix = normalized_dft.cov()
#print(covarMatrix)

#print(p1_analysis_df.head())

#create an array with 52 weekly dates to fit ARIMA model with
ts = pd.DataFrame()
ts['Date'] = pd.date_range('1/1/2018', periods = 52, freq ='W')


#Add product 1 sales to time series dataframe
ts_sales = dft.iloc[55:,0]
ts['Normalized P1 Sales'] = ts_sales.reset_index(drop=True)


#set time series index to 'date'
ts.set_index('Date',inplace=True)


#ts_diff.plot()
#plt.ylabel('Normalized P1 Sales')
#plt.grid()



#Use the first 44 values in the time series as training values and the last 8 as test values for ARIMA
X = ts.values
train = X[0:44]
test = X[44:]


#Function to automatically find best pdq parameters with relation to the minimum AIC value
def findBestParam(train):
    import warnings
    warnings.filterwarnings('ignore')
    p=d=q=range(0,5)
    pdq = list(itertools.product(p,d,q))
    dictionary = {}
    for param in pdq:
        try:
            model_arima = ARIMA(train,order = param)
            model_arima_fit = model_arima.fit()
            dictionary[model_arima_fit.aic] = param
        except:
            continue
            
    return min(dictionary.items(), key=lambda x: x[1])


#Fit and forecast the test values using the ARIMA model with the best parameters found above
model_arima = ARIMA(train,(0,0,0))
model_arima_fit = model_arima.fit()
predictions = model_arima_fit.forecast(steps=8)[0]


plt.plot(test)
plt.plot(predictions,color='green')

