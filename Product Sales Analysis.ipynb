{
 "cells": [
  {
   "cell_type": "code",
   "execution_count": 151,
   "metadata": {},
   "outputs": [],
   "source": [
    "import pandas as pd\n",
    "import numpy as np\n",
    "from scipy import stats, linalg\n",
    "from pandas import Series\n",
    "from sklearn import preprocessing\n",
    "df = pd.read_csv(r\"C:\\Users\\vx15\\Downloads\\Sales_Transactions_Dataset_Weekly.csv\")\n",
    "\n",
    "#select the columns with the normalized sales\n",
    "normalized_cols = [col for col in df.columns if ('Normalize' in col or 'Product_Code' in col)]\n",
    "\n",
    "#function to create a new dataframe with the select columns\n",
    "def select_columns(data_frame, column_names):\n",
    "    new_frame = data_frame.loc[:, column_names]\n",
    "    return new_frame\n",
    "\n",
    "#use function to extract normalized columns\n",
    "normalized_df = select_columns(df,normalized_cols)\n",
    "\n",
    "#transpose the normalized matrix to compare product sales\n",
    "normalized_dft = normalized_df.T\n",
    "\n",
    "#find the products' correlation matrix\n",
    "corrMatrix = normalized_dft.corr()\n",
    "\n",
    "#convert normalized dataframe to numpy array, to use covariance function on it.\n",
    "np_ndf = normalized_df.as_matrix()\n",
    "\n",
    "#calculate the covariance matrix\n",
    "np.cov(np_ndf)\n"
   ]
  },
  {
   "cell_type": "code",
   "execution_count": null,
   "metadata": {},
   "outputs": [],
   "source": []
  },
  {
   "cell_type": "code",
   "execution_count": null,
   "metadata": {
    "scrolled": true
   },
   "outputs": [],
   "source": [
    "\n"
   ]
  },
  {
   "cell_type": "code",
   "execution_count": null,
   "metadata": {},
   "outputs": [],
   "source": []
  }
 ],
 "metadata": {
  "kernelspec": {
   "display_name": "Python 3",
   "language": "python",
   "name": "python3"
  },
  "language_info": {
   "codemirror_mode": {
    "name": "ipython",
    "version": 3
   },
   "file_extension": ".py",
   "mimetype": "text/x-python",
   "name": "python",
   "nbconvert_exporter": "python",
   "pygments_lexer": "ipython3",
   "version": "3.6.4"
  }
 },
 "nbformat": 4,
 "nbformat_minor": 2
}
